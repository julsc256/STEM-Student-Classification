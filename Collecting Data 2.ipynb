{
 "cells": [
  {
   "cell_type": "markdown",
   "metadata": {},
   "source": [
    "**Disclaimer**\n",
    "- Due to sensitive material being gathered, some information has been altered to keep privacy of students."
   ]
  },
  {
   "cell_type": "markdown",
   "metadata": {},
   "source": [
    "# Webdiver"
   ]
  },
  {
   "cell_type": "code",
   "execution_count": 1,
   "metadata": {},
   "outputs": [],
   "source": [
    "from selenium import webdriver\n",
    "from selenium.webdriver.common.keys import Keys"
   ]
  },
  {
   "cell_type": "code",
   "execution_count": 2,
   "metadata": {},
   "outputs": [],
   "source": [
    "DRIVER_PATH = '/Users/Computer_USERNAME/Desktop/Data Science Environment/Flatiron School/Course Materials/chromedriver'\n",
    "driver = webdriver.Chrome(executable_path=DRIVER_PATH)"
   ]
  },
  {
   "cell_type": "code",
   "execution_count": 3,
   "metadata": {},
   "outputs": [],
   "source": [
    "driver.get(\"https://city.website.com/admin/pw.html\")"
   ]
  },
  {
   "cell_type": "markdown",
   "metadata": {},
   "source": [
    "## Sign Into Website"
   ]
  },
  {
   "cell_type": "code",
   "execution_count": 4,
   "metadata": {},
   "outputs": [],
   "source": [
    "# make sure to block this out when you're ready to publish\n",
    "username = 'username'\n",
    "password = 'password'"
   ]
  },
  {
   "cell_type": "code",
   "execution_count": 5,
   "metadata": {},
   "outputs": [],
   "source": [
    "username_element = driver.find_element_by_xpath('//input[@id=\"fieldUsername\"]')\n",
    "password_element = driver.find_element_by_xpath('//input[@id=\"fieldPassword\"]')"
   ]
  },
  {
   "cell_type": "code",
   "execution_count": 6,
   "metadata": {},
   "outputs": [],
   "source": [
    "username_element.send_keys(username)"
   ]
  },
  {
   "cell_type": "code",
   "execution_count": 7,
   "metadata": {},
   "outputs": [],
   "source": [
    "password_element.send_keys(password)"
   ]
  },
  {
   "cell_type": "code",
   "execution_count": 8,
   "metadata": {},
   "outputs": [],
   "source": [
    "sign_in_click = driver.find_element_by_xpath('//button[@title=\"Sign In To Website\"]')"
   ]
  },
  {
   "cell_type": "code",
   "execution_count": 9,
   "metadata": {},
   "outputs": [],
   "source": [
    "sign_in_click.click()"
   ]
  },
  {
   "cell_type": "markdown",
   "metadata": {},
   "source": [
    "## Go to Student Search - grade 9"
   ]
  },
  {
   "cell_type": "code",
   "execution_count": 10,
   "metadata": {},
   "outputs": [],
   "source": [
    "grade_nine = driver.find_element_by_xpath('//a[@id=\"grade_9\"]')"
   ]
  },
  {
   "cell_type": "code",
   "execution_count": 11,
   "metadata": {},
   "outputs": [],
   "source": [
    "grade_nine.click()"
   ]
  },
  {
   "cell_type": "markdown",
   "metadata": {},
   "source": [
    "### Gather all student links for id\n",
    "- The students have different 'id' numbers that are attached to them.\n",
    "- Combine the lists to have a comprehension list of all JMSA students.\n",
    "    - Place in a dataframe for reference"
   ]
  },
  {
   "cell_type": "markdown",
   "metadata": {},
   "source": [
    "### Page One"
   ]
  },
  {
   "cell_type": "code",
   "execution_count": 12,
   "metadata": {},
   "outputs": [],
   "source": [
    "p1 = driver.find_element_by_xpath('//a[@id=\"studentSelectionTablePage1\"]')"
   ]
  },
  {
   "cell_type": "code",
   "execution_count": 13,
   "metadata": {},
   "outputs": [],
   "source": [
    "p1.click()"
   ]
  },
  {
   "cell_type": "code",
   "execution_count": 14,
   "metadata": {},
   "outputs": [],
   "source": [
    "p1_students = driver.find_elements_by_xpath('//a[@class=\"ng-binding\" and contains(@id, \"selection\")]')"
   ]
  },
  {
   "cell_type": "code",
   "execution_count": 15,
   "metadata": {},
   "outputs": [],
   "source": [
    "student_names = []\n",
    "student_links = []\n",
    "for x in p1_students:\n",
    "    student_names.append(x.text)\n",
    "    student_links.append(x.get_attribute(\"href\"))"
   ]
  },
  {
   "cell_type": "code",
   "execution_count": 17,
   "metadata": {},
   "outputs": [],
   "source": [
    "student_ids = []\n",
    "for spot in student_links:\n",
    "    student_ids.append(spot.split(\"=\")[1])"
   ]
  },
  {
   "cell_type": "code",
   "execution_count": 18,
   "metadata": {},
   "outputs": [
    {
     "name": "stdout",
     "output_type": "stream",
     "text": [
      "100\n",
      "100\n",
      "100\n"
     ]
    }
   ],
   "source": [
    "print(len(student_names))\n",
    "print(len(student_links))\n",
    "print(len(student_ids))"
   ]
  },
  {
   "cell_type": "markdown",
   "metadata": {},
   "source": [
    "### Page Two"
   ]
  },
  {
   "cell_type": "code",
   "execution_count": 19,
   "metadata": {},
   "outputs": [],
   "source": [
    "p2 = driver.find_element_by_xpath('//a[@id=\"studentSelectionTablePage2\"]')"
   ]
  },
  {
   "cell_type": "code",
   "execution_count": 20,
   "metadata": {},
   "outputs": [],
   "source": [
    "p2.click()"
   ]
  },
  {
   "cell_type": "code",
   "execution_count": 21,
   "metadata": {},
   "outputs": [],
   "source": [
    "p2_students = driver.find_elements_by_xpath('//a[@class=\"ng-binding\" and contains(@id, \"selection\")]')"
   ]
  },
  {
   "cell_type": "code",
   "execution_count": 22,
   "metadata": {},
   "outputs": [],
   "source": [
    "student_names2 = []\n",
    "student_links2 = []\n",
    "for x in p2_students:\n",
    "    student_names2.append(x.text)\n",
    "    student_links2.append(x.get_attribute(\"href\"))"
   ]
  },
  {
   "cell_type": "code",
   "execution_count": 23,
   "metadata": {},
   "outputs": [],
   "source": [
    "student_ids2 = []\n",
    "for spot in student_links2:\n",
    "    student_ids2.append(spot.split(\"=\")[1])"
   ]
  },
  {
   "cell_type": "code",
   "execution_count": 24,
   "metadata": {},
   "outputs": [
    {
     "name": "stdout",
     "output_type": "stream",
     "text": [
      "100\n",
      "100\n",
      "100\n"
     ]
    }
   ],
   "source": [
    "print(len(student_names2))\n",
    "print(len(student_links2))\n",
    "print(len(student_ids2))"
   ]
  },
  {
   "cell_type": "markdown",
   "metadata": {},
   "source": [
    "### Page Three"
   ]
  },
  {
   "cell_type": "code",
   "execution_count": 25,
   "metadata": {},
   "outputs": [],
   "source": [
    "p3 = driver.find_element_by_xpath('//a[@id=\"studentSelectionTablePage3\"]')"
   ]
  },
  {
   "cell_type": "code",
   "execution_count": 26,
   "metadata": {},
   "outputs": [],
   "source": [
    "p3.click()"
   ]
  },
  {
   "cell_type": "code",
   "execution_count": 27,
   "metadata": {},
   "outputs": [],
   "source": [
    "p3_students = driver.find_elements_by_xpath('//a[@class=\"ng-binding\" and contains(@id, \"selection\")]')"
   ]
  },
  {
   "cell_type": "code",
   "execution_count": 28,
   "metadata": {},
   "outputs": [],
   "source": [
    "student_names3 = []\n",
    "student_links3 = []\n",
    "for x in p3_students:\n",
    "    student_names3.append(x.text)\n",
    "    student_links3.append(x.get_attribute(\"href\"))"
   ]
  },
  {
   "cell_type": "code",
   "execution_count": 29,
   "metadata": {},
   "outputs": [],
   "source": [
    "student_ids3 = []\n",
    "for spot in student_links3:\n",
    "    student_ids3.append(spot.split(\"=\")[1])"
   ]
  },
  {
   "cell_type": "code",
   "execution_count": 30,
   "metadata": {},
   "outputs": [
    {
     "name": "stdout",
     "output_type": "stream",
     "text": [
      "100\n",
      "100\n",
      "100\n"
     ]
    }
   ],
   "source": [
    "print(len(student_names3))\n",
    "print(len(student_links3))\n",
    "print(len(student_ids3))"
   ]
  },
  {
   "cell_type": "markdown",
   "metadata": {},
   "source": [
    "### Page Four"
   ]
  },
  {
   "cell_type": "code",
   "execution_count": 31,
   "metadata": {},
   "outputs": [],
   "source": [
    "p4 = driver.find_element_by_xpath('//a[@id=\"studentSelectionTablePage4\"]')"
   ]
  },
  {
   "cell_type": "code",
   "execution_count": 32,
   "metadata": {},
   "outputs": [],
   "source": [
    "p4.click()"
   ]
  },
  {
   "cell_type": "code",
   "execution_count": 33,
   "metadata": {},
   "outputs": [],
   "source": [
    "p4_students = driver.find_elements_by_xpath('//a[@class=\"ng-binding\" and contains(@id, \"selection\")]')"
   ]
  },
  {
   "cell_type": "code",
   "execution_count": 34,
   "metadata": {},
   "outputs": [],
   "source": [
    "student_names4 = []\n",
    "student_links4 = []\n",
    "for x in p4_students:\n",
    "    student_names4.append(x.text)\n",
    "    student_links4.append(x.get_attribute(\"href\"))"
   ]
  },
  {
   "cell_type": "code",
   "execution_count": 35,
   "metadata": {},
   "outputs": [],
   "source": [
    "student_ids4 = []\n",
    "for spot in student_links4:\n",
    "    student_ids4.append(spot.split(\"=\")[1])"
   ]
  },
  {
   "cell_type": "code",
   "execution_count": 36,
   "metadata": {},
   "outputs": [
    {
     "name": "stdout",
     "output_type": "stream",
     "text": [
      "100\n",
      "100\n",
      "100\n"
     ]
    }
   ],
   "source": [
    "print(len(student_names4))\n",
    "print(len(student_links4))\n",
    "print(len(student_ids4))"
   ]
  },
  {
   "cell_type": "markdown",
   "metadata": {},
   "source": [
    "### Page Five"
   ]
  },
  {
   "cell_type": "code",
   "execution_count": 37,
   "metadata": {},
   "outputs": [],
   "source": [
    "p5 = driver.find_element_by_xpath('//a[@id=\"studentSelectionTablePage5\"]')"
   ]
  },
  {
   "cell_type": "code",
   "execution_count": 38,
   "metadata": {},
   "outputs": [],
   "source": [
    "p5.click()"
   ]
  },
  {
   "cell_type": "code",
   "execution_count": 39,
   "metadata": {},
   "outputs": [],
   "source": [
    "p5_students = driver.find_elements_by_xpath('//a[@class=\"ng-binding\" and contains(@id, \"selection\")]')"
   ]
  },
  {
   "cell_type": "code",
   "execution_count": 40,
   "metadata": {},
   "outputs": [],
   "source": [
    "student_names5 = []\n",
    "student_links5 = []\n",
    "for x in p5_students:\n",
    "    student_names5.append(x.text)\n",
    "    student_links5.append(x.get_attribute(\"href\"))"
   ]
  },
  {
   "cell_type": "code",
   "execution_count": 41,
   "metadata": {},
   "outputs": [],
   "source": [
    "student_ids5 = []\n",
    "for spot in student_links5:\n",
    "    student_ids5.append(spot.split(\"=\")[1])"
   ]
  },
  {
   "cell_type": "code",
   "execution_count": 42,
   "metadata": {},
   "outputs": [
    {
     "name": "stdout",
     "output_type": "stream",
     "text": [
      "100\n",
      "100\n",
      "100\n"
     ]
    }
   ],
   "source": [
    "print(len(student_names5))\n",
    "print(len(student_links5))\n",
    "print(len(student_ids5))"
   ]
  },
  {
   "cell_type": "markdown",
   "metadata": {},
   "source": [
    "### Page Six"
   ]
  },
  {
   "cell_type": "code",
   "execution_count": 43,
   "metadata": {},
   "outputs": [],
   "source": [
    "p6 = driver.find_element_by_xpath('//a[@id=\"studentSelectionTablePage6\"]')"
   ]
  },
  {
   "cell_type": "code",
   "execution_count": 44,
   "metadata": {},
   "outputs": [],
   "source": [
    "p6.click()"
   ]
  },
  {
   "cell_type": "code",
   "execution_count": 45,
   "metadata": {},
   "outputs": [],
   "source": [
    "p6_students = driver.find_elements_by_xpath('//a[@class=\"ng-binding\" and contains(@id, \"selection\")]')"
   ]
  },
  {
   "cell_type": "code",
   "execution_count": 46,
   "metadata": {},
   "outputs": [],
   "source": [
    "student_names6 = []\n",
    "student_links6 = []\n",
    "for x in p6_students:\n",
    "    student_names6.append(x.text)\n",
    "    student_links6.append(x.get_attribute(\"href\"))"
   ]
  },
  {
   "cell_type": "code",
   "execution_count": 47,
   "metadata": {},
   "outputs": [],
   "source": [
    "student_ids6 = []\n",
    "for spot in student_links6:\n",
    "    student_ids6.append(spot.split(\"=\")[1])"
   ]
  },
  {
   "cell_type": "code",
   "execution_count": 48,
   "metadata": {},
   "outputs": [
    {
     "name": "stdout",
     "output_type": "stream",
     "text": [
      "100\n",
      "100\n",
      "100\n"
     ]
    }
   ],
   "source": [
    "print(len(student_names6))\n",
    "print(len(student_links6))\n",
    "print(len(student_ids6))"
   ]
  },
  {
   "cell_type": "markdown",
   "metadata": {},
   "source": [
    "### Page Seven"
   ]
  },
  {
   "cell_type": "code",
   "execution_count": 49,
   "metadata": {},
   "outputs": [],
   "source": [
    "p7 = driver.find_element_by_xpath('//a[@id=\"studentSelectionTablePage7\"]')"
   ]
  },
  {
   "cell_type": "code",
   "execution_count": 50,
   "metadata": {},
   "outputs": [],
   "source": [
    "p7.click()"
   ]
  },
  {
   "cell_type": "code",
   "execution_count": 51,
   "metadata": {},
   "outputs": [],
   "source": [
    "p7_students = driver.find_elements_by_xpath('//a[@class=\"ng-binding\" and contains(@id, \"selection\")]')"
   ]
  },
  {
   "cell_type": "code",
   "execution_count": 52,
   "metadata": {},
   "outputs": [],
   "source": [
    "student_names7 = []\n",
    "student_links7 = []\n",
    "for x in p7_students:\n",
    "    student_names7.append(x.text)\n",
    "    student_links7.append(x.get_attribute(\"href\"))"
   ]
  },
  {
   "cell_type": "code",
   "execution_count": 53,
   "metadata": {},
   "outputs": [],
   "source": [
    "student_ids7 = []\n",
    "for spot in student_links7:\n",
    "    student_ids7.append(spot.split(\"=\")[1])"
   ]
  },
  {
   "cell_type": "code",
   "execution_count": 54,
   "metadata": {},
   "outputs": [
    {
     "name": "stdout",
     "output_type": "stream",
     "text": [
      "68\n",
      "68\n",
      "68\n"
     ]
    }
   ],
   "source": [
    "print(len(student_names7))\n",
    "print(len(student_links7))\n",
    "print(len(student_ids7))"
   ]
  },
  {
   "cell_type": "markdown",
   "metadata": {},
   "source": [
    "### Dataframe framework (Student Name, Student Primary Link, Student Link ID)\n",
    "- Will encrypt all this later down the line"
   ]
  },
  {
   "cell_type": "code",
   "execution_count": 55,
   "metadata": {},
   "outputs": [],
   "source": [
    "student_name = student_names+student_names2+student_names3+student_names4+student_names5+student_names6+student_names7\n",
    "student_link = student_links+student_links2+student_links3+student_links4+student_links5+student_links6+student_links7\n",
    "student_id = student_ids+student_ids2+student_ids3+student_ids4+student_ids5+student_ids6+student_ids7"
   ]
  },
  {
   "cell_type": "code",
   "execution_count": 56,
   "metadata": {},
   "outputs": [
    {
     "name": "stdout",
     "output_type": "stream",
     "text": [
      "668\n",
      "668\n",
      "668\n"
     ]
    }
   ],
   "source": [
    "print(len(student_name))\n",
    "print(len(student_link))\n",
    "print(len(student_id))"
   ]
  },
  {
   "cell_type": "code",
   "execution_count": null,
   "metadata": {},
   "outputs": [],
   "source": [
    "# https://www.geeksforgeeks.org/create-a-pandas-dataframe-from-lists/\n",
    "import pandas as pd\n",
    "df = pd.DataFrame(list(zip(student_name, student_link, student_id)), \n",
    "                  columns =['Name', 'Link', 'ID'])\n",
    "df.head()"
   ]
  },
  {
   "cell_type": "code",
   "execution_count": 69,
   "metadata": {},
   "outputs": [],
   "source": [
    "df.to_csv('uchs_students.csv')"
   ]
  },
  {
   "cell_type": "markdown",
   "metadata": {},
   "source": [
    "## URLs needed for scrapping data\n",
    "- After clicking on a student this is the needed info:\n",
    "    - Historical Grades > Previous School Names (Middle School only)\n",
    "        - F1\n",
    "    - Test Score Summary (Grades 7 and 8)\n",
    "        - PARCC ELEM MATH - Summative Scale Score: Math\n",
    "        - PARCC ELEM MATH - Summative Performance Level: Math\n",
    "        - PARCC ELEM ELA - Summative Scale Score: Writing\n",
    "        - PARCC ELEM ELA - Summative Scale Score: Reading\n",
    "        - PARCC ELEM ELA - Summative Scale Score: ELA\n",
    "        - PARCC ELEM ELA - Summative Performance Level: ELA\n",
    "    - Attendance Info \n",
    "        - Years 17-18, 18-19\n",
    "            - Per tab:\n",
    "                - Description and YTD Count"
   ]
  },
  {
   "cell_type": "markdown",
   "metadata": {},
   "source": [
    "### Historical Grades"
   ]
  },
  {
   "cell_type": "markdown",
   "metadata": {},
   "source": [
    "- Three students (practice)"
   ]
  },
  {
   "cell_type": "code",
   "execution_count": 59,
   "metadata": {},
   "outputs": [],
   "source": [
    "historical_grades_base = \"https://city.website.com/admin/students/previousgrades.html?frn=\""
   ]
  },
  {
   "cell_type": "code",
   "execution_count": 60,
   "metadata": {},
   "outputs": [],
   "source": [
    "driver.get(historical_grades_base + student_id[0])"
   ]
  },
  {
   "cell_type": "code",
   "execution_count": 72,
   "metadata": {},
   "outputs": [],
   "source": [
    "previous_school_base = \"https://city.website.com/admin/students/histschoolnames.html?frn=\""
   ]
  },
  {
   "cell_type": "code",
   "execution_count": 73,
   "metadata": {},
   "outputs": [],
   "source": [
    "driver.get(previous_school_base + student_id[0])"
   ]
  },
  {
   "cell_type": "markdown",
   "metadata": {},
   "source": [
    "#### All 9th grade students \n",
    "- Save into a dataframe so easily usable next time so there is no need to webscrape again."
   ]
  },
  {
   "cell_type": "code",
   "execution_count": 74,
   "metadata": {},
   "outputs": [],
   "source": [
    "student_grades = []\n",
    "for student in student_id:\n",
    "    driver.get(previous_school_base + student)\n",
    "    seven = []\n",
    "    eight = []\n",
    "    grade7 = driver.find_elements_by_xpath('//tr[.//td[contains(text(), \"17-18 YR\")]]')\n",
    "    for x in grade7:\n",
    "        seven.append(x.text)\n",
    "    grade8 = driver.find_elements_by_xpath('//tr[.//td[contains(text(), \"18-19 YR\")]]')\n",
    "    for y in grade8:\n",
    "        eight.append(y.text) \n",
    "\n",
    "    F1 = \"F1\"\n",
    "    F1_rows_7 = []\n",
    "    F1_rows_8 = []\n",
    "    for n in seven:\n",
    "        if F1 in n:\n",
    "            F1_rows_7.append(n)\n",
    "    for n in eight:\n",
    "        if F1 in n:\n",
    "            F1_rows_8.append(n)\n",
    "    student_grades_lst_7 = []\n",
    "    student_grades_lst_8 = []\n",
    "\n",
    "    for i in F1_rows_7:\n",
    "        student_grades_lst_7.append(i.partition(\"F1\")[2].partition(\"0\")[0])\n",
    "    for i in F1_rows_8:\n",
    "        student_grades_lst_8.append(i.partition(\"F1\")[2].partition(\"0\")[0])\n",
    "    current_student = {\"id\": student, \"Grade 7 Grades\": student_grades_lst_7, \n",
    "                       \"Grade 8 Grades\": student_grades_lst_8}\n",
    "    student_grades.append(current_student)"
   ]
  },
  {
   "cell_type": "code",
   "execution_count": 75,
   "metadata": {},
   "outputs": [
    {
     "data": {
      "text/plain": [
       "668"
      ]
     },
     "execution_count": 75,
     "metadata": {},
     "output_type": "execute_result"
    }
   ],
   "source": [
    "len(student_grades)"
   ]
  },
  {
   "cell_type": "code",
   "execution_count": 77,
   "metadata": {},
   "outputs": [],
   "source": [
    "# https://www.geeksforgeeks.org/saving-a-pandas-dataframe-as-a-csv/\n",
    "student_grades_df = pd.DataFrame(student_grades)"
   ]
  },
  {
   "cell_type": "code",
   "execution_count": 84,
   "metadata": {},
   "outputs": [],
   "source": [
    "student_grades_df.to_csv('uchs_grades.csv') "
   ]
  },
  {
   "cell_type": "markdown",
   "metadata": {},
   "source": [
    "### Test Score Summary"
   ]
  },
  {
   "cell_type": "code",
   "execution_count": 67,
   "metadata": {},
   "outputs": [],
   "source": [
    "test_score_base = \"https://city.website.com/admin/students/student_tests_scores_summary.html?frn=\""
   ]
  },
  {
   "cell_type": "code",
   "execution_count": 68,
   "metadata": {},
   "outputs": [],
   "source": [
    "driver.get(test_score_base + student_id[0])"
   ]
  },
  {
   "cell_type": "code",
   "execution_count": 69,
   "metadata": {},
   "outputs": [],
   "source": [
    "student_scores = []\n",
    "for student in student_id:\n",
    "    eight_math = []\n",
    "    eight_ela = []\n",
    "    seven_math = []\n",
    "    seven_ela = []\n",
    "    driver.get(test_score_base + student)\n",
    "    grade_8_math = driver.find_elements_by_xpath('//tr[.//td[contains(text(), \"NJSLA-MATH ELEM\")]]')\n",
    "    if grade_8_math == []: \n",
    "        for i in range(4):\n",
    "            eight_math.append('NA')\n",
    "    else:\n",
    "        for x in grade_8_math:\n",
    "            eight_math.append(x.text)\n",
    "    grade_8_ela = driver.find_elements_by_xpath('//tr[.//td[contains(text(), \"NJSLA-ELA ELEM\")]]')\n",
    "    if grade_8_ela == []:\n",
    "        for i in range(6):\n",
    "            eight_ela.append('NA')\n",
    "    else:\n",
    "        for y in grade_8_ela:\n",
    "            eight_ela.append(y.text) \n",
    "    grade_7_math = driver.find_elements_by_xpath('//tr[.//td[contains(text(), \"PARCC ELEM MATH\")]]')\n",
    "    if grade_7_math == []:\n",
    "        for i in range(4):\n",
    "            seven_math.append('NA')\n",
    "    else:\n",
    "        for x in grade_7_math:\n",
    "            seven_math.append(x.text)\n",
    "    grade_7_ela = driver.find_elements_by_xpath('//tr[.//td[contains(text(), \"PARCC ELEM ELA\")]]')\n",
    "    if grade_7_ela == []:\n",
    "        for i in range(6):\n",
    "            seven_ela.append('NA')\n",
    "    else:\n",
    "        for y in grade_7_ela:\n",
    "            seven_ela.append(y.text)\n",
    "   \n",
    "    keyword = \"Summative Performance\"\n",
    "    math_score_7 = []\n",
    "    math_score_8 = []\n",
    "    ela_score_7 = []\n",
    "    ela_score_8 = []\n",
    "    for n in seven_math:\n",
    "        if keyword in n:\n",
    "            math_score_7.append(n)\n",
    "    for n in eight_math:\n",
    "        if keyword in n:\n",
    "            math_score_8.append(n)\n",
    "    for n in seven_ela:\n",
    "        if keyword in n:\n",
    "            ela_score_7.append(n)\n",
    "    for n in eight_ela:\n",
    "        if keyword in n:\n",
    "            ela_score_8.append(n)\n",
    "    \n",
    "    ela_grade_8 = []\n",
    "    ela_grade_7 = []\n",
    "    math_grade_8 = []\n",
    "    math_grade_7 = []\n",
    "    for i in math_score_7:\n",
    "        math_grade_7.append(i.partition(\"Math\")[2].partition(\"0\")[0])\n",
    "    for i in math_score_8:\n",
    "        math_grade_8.append(i.partition(\"Math\")[2].partition(\"0\")[0])\n",
    "    for i in ela_score_7:\n",
    "        ela_grade_7.append(i.partition(\": ELA\")[2].partition(\"0\")[0])\n",
    "    for i in ela_score_8:\n",
    "        ela_grade_8.append(i.partition(\": ELA\")[2].partition(\"0\")[0])\n",
    "    current_student = {\"id\": student, \"ELA_7\": ela_grade_7, \"Math_7\": math_grade_7, \n",
    "                      \"ELA_8\": ela_grade_8, \"Math_8\": math_grade_8}\n",
    "    student_scores.append(current_student)"
   ]
  },
  {
   "cell_type": "code",
   "execution_count": 71,
   "metadata": {},
   "outputs": [],
   "source": [
    "student_scores_df = pd.DataFrame(student_scores)\n",
    "student_scores_df.to_csv('uchs_scores.csv')"
   ]
  },
  {
   "cell_type": "markdown",
   "metadata": {},
   "source": [
    "### Attendance"
   ]
  },
  {
   "cell_type": "code",
   "execution_count": 57,
   "metadata": {},
   "outputs": [],
   "source": [
    "attendance_base = \"https://city.website.com/admin/students/att_daily.html?frn=\""
   ]
  },
  {
   "cell_type": "code",
   "execution_count": 58,
   "metadata": {},
   "outputs": [],
   "source": [
    "driver.get(attendance_base + student_id[0])"
   ]
  },
  {
   "cell_type": "code",
   "execution_count": 59,
   "metadata": {},
   "outputs": [],
   "source": [
    "eighth_grade_atten_base = \"https://city.website.com/admin/students/att_daily.html?frn=\"\n",
    "eighth_grade_second_base = \"&yid=28\"\n",
    "seventh_grade_second_base = \"&yid=27\""
   ]
  },
  {
   "cell_type": "code",
   "execution_count": 62,
   "metadata": {},
   "outputs": [],
   "source": [
    "student_atten = []\n",
    "for student in student_id:\n",
    "    seven = []\n",
    "    eight = []\n",
    "    driver.get(eighth_grade_atten_base + student + eighth_grade_second_base)\n",
    "    a_8 = driver.find_elements_by_xpath('//table[@class=\"grid\"]')\n",
    "    if a_8 == []: \n",
    "        eight.append('NA')\n",
    "    else:\n",
    "        for x in a_8:\n",
    "            eight.append(x.text.split(\"\\n\")[1:])\n",
    "    driver.get(eighth_grade_atten_base + student + seventh_grade_second_base)\n",
    "    a_7 = driver.find_elements_by_xpath('//table[@class=\"grid\"]')\n",
    "    if a_7 == []: \n",
    "        seven.append('NA')\n",
    "    else:\n",
    "        for y in a_7:\n",
    "            seven.append(y.text.split(\"\\n\")[1:])\n",
    "    current_student = {\"id\": student, \"Grade 7 Attendance\": seven, \"Grade 8 Attendance\": eight} \n",
    "    student_atten.append(current_student)               "
   ]
  },
  {
   "cell_type": "code",
   "execution_count": 64,
   "metadata": {},
   "outputs": [
    {
     "data": {
      "text/plain": [
       "668"
      ]
     },
     "execution_count": 64,
     "metadata": {},
     "output_type": "execute_result"
    }
   ],
   "source": [
    "len(student_atten)"
   ]
  },
  {
   "cell_type": "code",
   "execution_count": 65,
   "metadata": {},
   "outputs": [],
   "source": [
    "student_atten_df = pd.DataFrame(student_atten)\n",
    "student_atten_df.to_csv('uchs_attendance.csv')"
   ]
  },
  {
   "cell_type": "code",
   "execution_count": null,
   "metadata": {},
   "outputs": [],
   "source": [
    "student_atten_df"
   ]
  },
  {
   "cell_type": "markdown",
   "metadata": {},
   "source": [
    "### Teacher Comments"
   ]
  },
  {
   "cell_type": "code",
   "execution_count": 138,
   "metadata": {},
   "outputs": [],
   "source": [
    "comment_base = \"https://city.website.com/admin/students/teachercomments.html?frn=\""
   ]
  },
  {
   "cell_type": "code",
   "execution_count": 171,
   "metadata": {},
   "outputs": [],
   "source": [
    "driver.get(comment_base + student_id[198])"
   ]
  },
  {
   "cell_type": "code",
   "execution_count": 160,
   "metadata": {},
   "outputs": [],
   "source": [
    "term = driver.find_element_by_xpath('//option[@value=\"teachercomments.html?fg=Q2\"]')"
   ]
  },
  {
   "cell_type": "code",
   "execution_count": 146,
   "metadata": {},
   "outputs": [],
   "source": [
    "term.click()"
   ]
  },
  {
   "cell_type": "code",
   "execution_count": 147,
   "metadata": {},
   "outputs": [
    {
     "data": {
      "text/plain": [
       "''"
      ]
     },
     "execution_count": 147,
     "metadata": {},
     "output_type": "execute_result"
    }
   ],
   "source": [
    "driver.find_elements_by_xpath(\"//table/tbody/tr[3]/td[6]\")[0].text.split(\"\\n\")[0]"
   ]
  },
  {
   "cell_type": "code",
   "execution_count": 158,
   "metadata": {},
   "outputs": [],
   "source": [
    "driver.get(comment_base + student_id[2])"
   ]
  },
  {
   "cell_type": "code",
   "execution_count": 161,
   "metadata": {},
   "outputs": [],
   "source": [
    "term.click()"
   ]
  },
  {
   "cell_type": "code",
   "execution_count": 162,
   "metadata": {},
   "outputs": [
    {
     "data": {
      "text/plain": [
       "''"
      ]
     },
     "execution_count": 162,
     "metadata": {},
     "output_type": "execute_result"
    }
   ],
   "source": [
    "driver.find_elements_by_xpath(\"//table/tbody/tr[7]/td[6]\")[0].text.split(\"\\n\")[0]"
   ]
  },
  {
   "cell_type": "code",
   "execution_count": 62,
   "metadata": {},
   "outputs": [
    {
     "data": {
      "text/plain": [
       "668"
      ]
     },
     "execution_count": 62,
     "metadata": {},
     "output_type": "execute_result"
    }
   ],
   "source": [
    "len(student_id)"
   ]
  },
  {
   "cell_type": "code",
   "execution_count": 185,
   "metadata": {},
   "outputs": [],
   "source": [
    "# https://www.guru99.com/selenium-webtable.html - table row\n",
    "# except pass will tell it to do nothing and continue the code below\n",
    "teacher_comments = []\n",
    "for student in student_id:\n",
    "    driver.get(comment_base + student)\n",
    "    term = driver.find_element_by_xpath('//option[@value=\"teachercomments.html?fg=Q2\"]')\n",
    "    term.click()\n",
    "    comment_1 = []\n",
    "    comment_1_ = driver.find_elements_by_xpath(\"//table/tbody/tr[3]/td[6]\")[0].text.split(\"\\n\")[0]\n",
    "    comment_1.append(comment_1_)\n",
    "    comment_2 = []\n",
    "    comment_2_ = driver.find_elements_by_xpath(\"//table/tbody/tr[4]/td[6]\")[0].text.split(\"\\n\")[0]\n",
    "    comment_2.append(comment_2_)\n",
    "    comment_3 = []\n",
    "    comment_3_ = driver.find_elements_by_xpath(\"//table/tbody/tr[5]/td[6]\")[0].text.split(\"\\n\")[0]\n",
    "    comment_3.append(comment_3_)\n",
    "    comment_4 = []\n",
    "    comment_4_ = driver.find_elements_by_xpath(\"//table/tbody/tr[6]/td[6]\")[0].text.split(\"\\n\")[0]\n",
    "    comment_4.append(comment_4_)\n",
    "    comment_5 = []\n",
    "    comment_5_ = driver.find_elements_by_xpath(\"//table/tbody/tr[7]/td[6]\")[0].text.split(\"\\n\")[0]\n",
    "    comment_5.append(comment_5_)\n",
    "    try:\n",
    "        comment_6 = []\n",
    "        comment_6_ = driver.find_elements_by_xpath(\"//table/tbody/tr[8]/td[6]\")[0].text.split(\"\\n\")[0]\n",
    "        comment_6.append(comment_6_)\n",
    "    except: \n",
    "        pass\n",
    "    try:\n",
    "        comment_7 = []\n",
    "        comment_7_ = driver.find_elements_by_xpath(\"//table/tbody/tr[9]/td[6]\")[0].text.split(\"\\n\")[0]\n",
    "        comment_7.append(comment_7_)\n",
    "    except: \n",
    "        pass\n",
    "    try:\n",
    "        comment_8 = []\n",
    "        comment_8_ = driver.find_elements_by_xpath(\"//table/tbody/tr[10]/td[6]\")[0].text.split(\"\\n\")[0]\n",
    "        comment_8.append(comment_8_)\n",
    "    except:\n",
    "        pass\n",
    "    current_student = {\"id\": student, \"Comment_1\": comment_1, \"Comment_2\": comment_2, \"Comment_3\": comment_3,\n",
    "                      \"Comment_4\": comment_4, \"Comment_5\": comment_5, \"Comment_6\": comment_6, \"Comment_7\": comment_7,\n",
    "                      \"Commnet_8\": comment_8} \n",
    "    teacher_comments.append(current_student)    "
   ]
  },
  {
   "cell_type": "code",
   "execution_count": 186,
   "metadata": {},
   "outputs": [],
   "source": [
    "teacher_comments_df = pd.DataFrame(teacher_comments)"
   ]
  },
  {
   "cell_type": "code",
   "execution_count": 187,
   "metadata": {},
   "outputs": [
    {
     "data": {
      "text/plain": [
       "668"
      ]
     },
     "execution_count": 187,
     "metadata": {},
     "output_type": "execute_result"
    }
   ],
   "source": [
    "len(teacher_comments_df)"
   ]
  },
  {
   "cell_type": "code",
   "execution_count": 189,
   "metadata": {},
   "outputs": [],
   "source": [
    "teacher_comments_df.to_csv('uchs_comments.csv')"
   ]
  },
  {
   "cell_type": "markdown",
   "metadata": {},
   "source": [
    "### Gender"
   ]
  },
  {
   "cell_type": "code",
   "execution_count": 61,
   "metadata": {},
   "outputs": [],
   "source": [
    "student_gender = []\n",
    "for student in student_id:\n",
    "    driver.get(historical_grades_base + student)\n",
    "    g = []\n",
    "    gender = driver.find_elements_by_xpath('//table[@id=\"replacement_header\"]')[0].text.split(\"Gender:  \")[1].split(\"  \")[0]\n",
    "    for x in gender:\n",
    "        g.append(x)\n",
    "    current_student = {\"id\": student, \"Gender\": g}\n",
    "    student_gender.append(current_student)"
   ]
  },
  {
   "cell_type": "code",
   "execution_count": 62,
   "metadata": {},
   "outputs": [
    {
     "data": {
      "text/plain": [
       "668"
      ]
     },
     "execution_count": 62,
     "metadata": {},
     "output_type": "execute_result"
    }
   ],
   "source": [
    "len(student_gender)"
   ]
  },
  {
   "cell_type": "code",
   "execution_count": 63,
   "metadata": {},
   "outputs": [],
   "source": [
    "# https://www.geeksforgeeks.org/saving-a-pandas-dataframe-as-a-csv/\n",
    "student_gender_df = pd.DataFrame(student_gender)"
   ]
  },
  {
   "cell_type": "code",
   "execution_count": 64,
   "metadata": {},
   "outputs": [],
   "source": [
    "student_gender_df.to_csv('uchs_gender.csv') "
   ]
  }
 ],
 "metadata": {
  "kernelspec": {
   "display_name": "Python [conda env:learn-env] *",
   "language": "python",
   "name": "conda-env-learn-env-py"
  },
  "language_info": {
   "codemirror_mode": {
    "name": "ipython",
    "version": 3
   },
   "file_extension": ".py",
   "mimetype": "text/x-python",
   "name": "python",
   "nbconvert_exporter": "python",
   "pygments_lexer": "ipython3",
   "version": "3.6.9"
  },
  "toc": {
   "base_numbering": 1,
   "nav_menu": {},
   "number_sections": true,
   "sideBar": true,
   "skip_h1_title": false,
   "title_cell": "Table of Contents",
   "title_sidebar": "Contents",
   "toc_cell": false,
   "toc_position": {},
   "toc_section_display": true,
   "toc_window_display": false
  },
  "varInspector": {
   "cols": {
    "lenName": 16,
    "lenType": 16,
    "lenVar": 40
   },
   "kernels_config": {
    "python": {
     "delete_cmd_postfix": "",
     "delete_cmd_prefix": "del ",
     "library": "var_list.py",
     "varRefreshCmd": "print(var_dic_list())"
    },
    "r": {
     "delete_cmd_postfix": ") ",
     "delete_cmd_prefix": "rm(",
     "library": "var_list.r",
     "varRefreshCmd": "cat(var_dic_list()) "
    }
   },
   "types_to_exclude": [
    "module",
    "function",
    "builtin_function_or_method",
    "instance",
    "_Feature"
   ],
   "window_display": false
  }
 },
 "nbformat": 4,
 "nbformat_minor": 2
}
