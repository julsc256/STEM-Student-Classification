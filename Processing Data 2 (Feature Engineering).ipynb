{
 "cells": [
  {
   "cell_type": "markdown",
   "metadata": {},
   "source": [
    "**Disclaimer**\n",
    "- Due to sensitive material being gathered, some information has been altered to keep privacy of students."
   ]
  },
  {
   "cell_type": "markdown",
   "metadata": {},
   "source": [
    "# Import the dataset\n",
    "- df is the dataset with all the scrapped info"
   ]
  },
  {
   "cell_type": "code",
   "execution_count": 106,
   "metadata": {},
   "outputs": [],
   "source": [
    "import warnings\n",
    "warnings.filterwarnings('ignore')\n",
    "\n",
    "import seaborn as sns\n",
    "import matplotlib as mpl\n",
    "import matplotlib.pyplot as plt"
   ]
  },
  {
   "cell_type": "code",
   "execution_count": 107,
   "metadata": {},
   "outputs": [],
   "source": [
    "import pandas as pd\n",
    "df1 = pd.read_csv('df1.csv')"
   ]
  },
  {
   "cell_type": "markdown",
   "metadata": {},
   "source": [
    "# Data Processing"
   ]
  },
  {
   "cell_type": "code",
   "execution_count": 31,
   "metadata": {},
   "outputs": [],
   "source": [
    "df1.drop(['Unnamed: 0'], axis=1, inplace=True)"
   ]
  },
  {
   "cell_type": "markdown",
   "metadata": {},
   "source": [
    "#### Replace empty comments with appropriate values"
   ]
  },
  {
   "cell_type": "markdown",
   "metadata": {},
   "source": [
    "- Replace all the empty comments ('') with No Comment.\n",
    "    - https://pandas.pydata.org/pandas-docs/stable/reference/api/pandas.DataFrame.replace.html"
   ]
  },
  {
   "cell_type": "code",
   "execution_count": 32,
   "metadata": {},
   "outputs": [],
   "source": [
    "df1 = df1.replace({\"''\": ' No Comment '})"
   ]
  },
  {
   "cell_type": "code",
   "execution_count": 34,
   "metadata": {},
   "outputs": [
    {
     "name": "stdout",
     "output_type": "stream",
     "text": [
      "<class 'pandas.core.frame.DataFrame'>\n",
      "RangeIndex: 886 entries, 0 to 885\n",
      "Data columns (total 21 columns):\n",
      "student_ids        886 non-null int64\n",
      "Grade Average 7    886 non-null int64\n",
      "Grade Average 8    886 non-null int64\n",
      "Math_7_score       886 non-null int64\n",
      "ELA_7_score        886 non-null int64\n",
      "Math_8_score       886 non-null int64\n",
      "ELA_8_score        886 non-null int64\n",
      "Absent Grade 7     886 non-null int64\n",
      "Tardy Grade 7      886 non-null int64\n",
      "Absent Grade 8     886 non-null int64\n",
      "Tardy Grade 8      886 non-null int64\n",
      "Gender             886 non-null object\n",
      "Comment_1          886 non-null object\n",
      "Comment_2          886 non-null object\n",
      "Comment_3          886 non-null object\n",
      "Comment_4          886 non-null object\n",
      "Comment_5          886 non-null object\n",
      "Comment_6          885 non-null object\n",
      "Comment_7          870 non-null object\n",
      "Comment_8          761 non-null object\n",
      "target             886 non-null int64\n",
      "dtypes: int64(12), object(9)\n",
      "memory usage: 145.5+ KB\n"
     ]
    }
   ],
   "source": [
    "df1.info()"
   ]
  },
  {
   "cell_type": "markdown",
   "metadata": {},
   "source": [
    "- Comment_6, Comment_7, and Comment_8 are missing values.  To find where the missing are located use, `np.where(pd.isnull(df))`\n",
    "    - How to read it: The top array is the row and bottom array is the column.  \n",
    "    - To find what that row and column show use: `df[column_name][row]`\n",
    "- Change all nan to 'No Comment'"
   ]
  },
  {
   "cell_type": "code",
   "execution_count": 35,
   "metadata": {},
   "outputs": [
    {
     "data": {
      "text/plain": [
       "(array([228, 229, 233, 236, 238, 241, 257, 260, 263, 264, 265, 268, 275,\n",
       "        282, 287, 289, 307, 311, 314, 319, 319, 322, 325, 328, 359, 362,\n",
       "        362, 376, 381, 383, 388, 396, 400, 404, 410, 416, 417, 424, 425,\n",
       "        428, 428, 431, 432, 437, 444, 444, 445, 447, 448, 452, 458, 460,\n",
       "        461, 468, 468, 482, 483, 483, 485, 489, 492, 497, 498, 498, 498,\n",
       "        508, 510, 517, 517, 520, 527, 527, 535, 547, 569, 571, 576, 579,\n",
       "        591, 594, 597, 600, 601, 604, 605, 606, 610, 613, 630, 632, 634,\n",
       "        637, 637, 642, 643, 663, 666, 668, 673, 673, 674, 683, 683, 696,\n",
       "        699, 700, 708, 710, 713, 722, 723, 739, 739, 740, 745, 747, 755,\n",
       "        760, 762, 762, 772, 777, 778, 782, 788, 802, 806, 814, 818, 820,\n",
       "        823, 828, 831, 832, 832, 833, 837, 849, 857, 863, 876, 876]),\n",
       " array([19, 19, 19, 19, 19, 19, 19, 19, 19, 19, 19, 19, 19, 19, 19, 19, 19,\n",
       "        19, 19, 18, 19, 19, 19, 19, 19, 18, 19, 19, 19, 19, 19, 19, 19, 19,\n",
       "        19, 19, 19, 19, 19, 18, 19, 19, 19, 19, 18, 19, 19, 19, 19, 19, 19,\n",
       "        19, 19, 18, 19, 19, 18, 19, 19, 19, 19, 19, 17, 18, 19, 19, 19, 18,\n",
       "        19, 19, 18, 19, 19, 19, 19, 19, 19, 19, 19, 19, 19, 19, 19, 19, 19,\n",
       "        19, 19, 19, 19, 19, 19, 18, 19, 19, 19, 19, 19, 19, 18, 19, 19, 18,\n",
       "        19, 19, 19, 19, 19, 19, 19, 19, 19, 18, 19, 19, 19, 19, 19, 19, 18,\n",
       "        19, 19, 19, 19, 19, 19, 19, 19, 19, 19, 19, 19, 19, 19, 18, 19, 19,\n",
       "        19, 19, 19, 19, 18, 19]))"
      ]
     },
     "execution_count": 35,
     "metadata": {},
     "output_type": "execute_result"
    }
   ],
   "source": [
    "import numpy as np\n",
    "np.where(pd.isnull(df1))"
   ]
  },
  {
   "cell_type": "code",
   "execution_count": 36,
   "metadata": {
    "scrolled": true
   },
   "outputs": [
    {
     "data": {
      "text/plain": [
       "nan"
      ]
     },
     "execution_count": 36,
     "metadata": {},
     "output_type": "execute_result"
    }
   ],
   "source": [
    "#  Column 19 - Row 428\n",
    "df1['Comment_8'][275]"
   ]
  },
  {
   "cell_type": "code",
   "execution_count": 37,
   "metadata": {},
   "outputs": [
    {
     "data": {
      "text/plain": [
       "nan"
      ]
     },
     "execution_count": 37,
     "metadata": {},
     "output_type": "execute_result"
    }
   ],
   "source": [
    "# Column 18 - Row 319\n",
    "df1['Comment_7'][319]"
   ]
  },
  {
   "cell_type": "markdown",
   "metadata": {},
   "source": [
    "- How to fill nan values:\n",
    "    - https://pandas.pydata.org/pandas-docs/stable/reference/api/pandas.DataFrame.fillna.html"
   ]
  },
  {
   "cell_type": "code",
   "execution_count": 38,
   "metadata": {},
   "outputs": [],
   "source": [
    "df1.fillna(value=' No Comment ', inplace=True)"
   ]
  },
  {
   "cell_type": "code",
   "execution_count": 39,
   "metadata": {},
   "outputs": [
    {
     "name": "stdout",
     "output_type": "stream",
     "text": [
      "<class 'pandas.core.frame.DataFrame'>\n",
      "RangeIndex: 886 entries, 0 to 885\n",
      "Data columns (total 21 columns):\n",
      "student_ids        886 non-null int64\n",
      "Grade Average 7    886 non-null int64\n",
      "Grade Average 8    886 non-null int64\n",
      "Math_7_score       886 non-null int64\n",
      "ELA_7_score        886 non-null int64\n",
      "Math_8_score       886 non-null int64\n",
      "ELA_8_score        886 non-null int64\n",
      "Absent Grade 7     886 non-null int64\n",
      "Tardy Grade 7      886 non-null int64\n",
      "Absent Grade 8     886 non-null int64\n",
      "Tardy Grade 8      886 non-null int64\n",
      "Gender             886 non-null object\n",
      "Comment_1          886 non-null object\n",
      "Comment_2          886 non-null object\n",
      "Comment_3          886 non-null object\n",
      "Comment_4          886 non-null object\n",
      "Comment_5          886 non-null object\n",
      "Comment_6          886 non-null object\n",
      "Comment_7          886 non-null object\n",
      "Comment_8          886 non-null object\n",
      "target             886 non-null int64\n",
      "dtypes: int64(12), object(9)\n",
      "memory usage: 145.5+ KB\n"
     ]
    }
   ],
   "source": [
    "df1.info()"
   ]
  },
  {
   "cell_type": "markdown",
   "metadata": {},
   "source": [
    "- Check to make sure it worked"
   ]
  },
  {
   "cell_type": "code",
   "execution_count": 40,
   "metadata": {},
   "outputs": [
    {
     "data": {
      "text/plain": [
       "' No Comment '"
      ]
     },
     "execution_count": 40,
     "metadata": {},
     "output_type": "execute_result"
    }
   ],
   "source": [
    "df1['Comment_7'][319]"
   ]
  },
  {
   "cell_type": "markdown",
   "metadata": {},
   "source": [
    "- Look through each comment by using `df.values` to see what the dataset is showing.\n",
    "    - Could be good to go through each to see, which comments have names in them in order to change "
   ]
  },
  {
   "cell_type": "markdown",
   "metadata": {},
   "source": [
    "#### Comment_1 - change names"
   ]
  },
  {
   "cell_type": "code",
   "execution_count": 41,
   "metadata": {},
   "outputs": [],
   "source": [
    "# https://www.geeksforgeeks.org/python-pandas-series-str-replace-to-replace-text-in-a-series/\n",
    "df1[\"Comment_1\"]= df1[\"Comment_1\"].str.replace(\"Student_name\", \"Student\") \n",
    "df1[\"Comment_1\"]= df1[\"Comment_1\"].str.replace(\"Teacher_Email\", \"Teacher Email\")\n",
    "df1[\"Comment_1\"]= df1[\"Comment_1\"].str.replace(\"Teacher_Email\", \"Teacher Email\")\n",
    "df1[\"Comment_1\"]= df1[\"Comment_1\"].str.replace(\"Student_name\", \"Student\") \n",
    "df1[\"Comment_1\"]= df1[\"Comment_1\"].str.replace(\"Student_name\", \"Student\") \n",
    "df1[\"Comment_1\"]= df1[\"Comment_1\"].str.replace(\"Student_name\", \"Student\") \n",
    "df1[\"Comment_1\"]= df1[\"Comment_1\"].str.replace(\"Student_name\", \"Student\")\n",
    "df1[\"Comment_1\"]= df1[\"Comment_1\"].str.replace(\"Student_name\", \"Student\")\n",
    "df1[\"Comment_1\"]= df1[\"Comment_1\"].str.replace(\"Student_name\", \"Student\")\n",
    "df1[\"Comment_1\"]= df1[\"Comment_1\"].str.replace(\"Student_name\", \"Student\")\n",
    "df1[\"Comment_1\"]= df1[\"Comment_1\"].str.replace(\"Date\", \"Some Date\")\n",
    "df1[\"Comment_1\"]= df1[\"Comment_1\"].str.replace(\"'\\\\'\", \"' '\")"
   ]
  },
  {
   "cell_type": "markdown",
   "metadata": {},
   "source": [
    "#### Comment_2 - Change names"
   ]
  },
  {
   "cell_type": "code",
   "execution_count": 42,
   "metadata": {},
   "outputs": [],
   "source": [
    "df1[\"Comment_2\"]= df1[\"Comment_2\"].str.replace(\"Student_name\", \"Student\") \n",
    "df1[\"Comment_2\"]= df1[\"Comment_2\"].str.replace(\"Teacher_name\", \"Teacher Email\")\n",
    "df1[\"Comment_2\"]= df1[\"Comment_2\"].str.replace(\"Teacher_name\", \"Teacher Email\")\n",
    "df1[\"Comment_2\"]= df1[\"Comment_2\"].str.replace(\"Student_name\", \"Student\") \n",
    "df1[\"Comment_2\"]= df1[\"Comment_2\"].str.replace(\"Student_name\", \"Student\") \n",
    "df1[\"Comment_2\"]= df1[\"Comment_2\"].str.replace(\"2\", \"two\")\n",
    "df1[\"Comment_2\"]= df1[\"Comment_2\"].str.replace(\"'\\\\'\", \"' '\")"
   ]
  },
  {
   "cell_type": "markdown",
   "metadata": {},
   "source": [
    "#### Comment_3 - change names"
   ]
  },
  {
   "cell_type": "code",
   "execution_count": 43,
   "metadata": {},
   "outputs": [],
   "source": [
    "df1[\"Comment_3\"]= df1[\"Comment_3\"].str.replace(\"Student_name\", \"Student\") \n",
    "df1[\"Comment_3\"]= df1[\"Comment_3\"].str.replace(\"Teacher_Email\", \"Teacher Email\")\n",
    "df1[\"Comment_3\"]= df1[\"Comment_3\"].str.replace(\"Teacher_Email\", \"Teacher Email\")\n",
    "df1[\"Comment_3\"]= df1[\"Comment_3\"].str.replace(\"Student_name\", \"Student\") \n",
    "df1[\"Comment_3\"]= df1[\"Comment_3\"].str.replace(\"Student_name\", \"Student\") \n",
    "df1[\"Comment_3\"]= df1[\"Comment_3\"].str.replace(\"Student_name\", \"Student\") \n",
    "df1[\"Comment_3\"]= df1[\"Comment_3\"].str.replace(\"Date\", \"Some date\") \n",
    "df1[\"Comment_3\"]= df1[\"Comment_3\"].str.replace(\"'\\\\'\", \"' '\")\n",
    "df1[\"Comment_3\"]= df1[\"Comment_3\"].str.replace(\"=\", \"' '\")"
   ]
  },
  {
   "cell_type": "markdown",
   "metadata": {},
   "source": [
    "#### Comment_4 - change names"
   ]
  },
  {
   "cell_type": "code",
   "execution_count": 44,
   "metadata": {},
   "outputs": [],
   "source": [
    "df1[\"Comment_4\"]= df1[\"Comment_4\"].str.replace(\"Student_name\", \"Student\") \n",
    "df1[\"Comment_4\"]= df1[\"Comment_4\"].str.replace(\"Teacher_Email\", \"Teacher Email\")\n",
    "df1[\"Comment_4\"]= df1[\"Comment_4\"].str.replace(\"Teacher_Email\", \"Teacher Email\")\n",
    "df1[\"Comment_4\"]= df1[\"Comment_4\"].str.replace(\"Date\", \"Some date\") \n",
    "df1[\"Comment_4\"]= df1[\"Comment_4\"].str.replace(\"7\", \"seven\")\n",
    "df1[\"Comment_4\"]= df1[\"Comment_4\"].str.replace(\"'\\\\'\", \"' '\")\n",
    "df1[\"Comment_4\"]= df1[\"Comment_4\"].str.replace(\"/\", \",\")"
   ]
  },
  {
   "cell_type": "markdown",
   "metadata": {},
   "source": [
    "#### Comment_5 - change names"
   ]
  },
  {
   "cell_type": "code",
   "execution_count": 45,
   "metadata": {},
   "outputs": [],
   "source": [
    "df1[\"Comment_5\"]= df1[\"Comment_5\"].str.replace(\"Student_name\", \"Student\") \n",
    "df1[\"Comment_5\"]= df1[\"Comment_5\"].str.replace(\"Teacher_Email\", \"Teacher Email\")\n",
    "df1[\"Comment_5\"]= df1[\"Comment_5\"].str.replace(\"Teacher_Email\", \"Teacher Email\")\n",
    "df1[\"Comment_5\"]= df1[\"Comment_5\"].str.replace(\"Student_name\", \"Student\") \n",
    "df1[\"Comment_5\"]= df1[\"Comment_5\"].str.replace(\"Student_name\", \"Student\") \n",
    "df1[\"Comment_5\"]= df1[\"Comment_5\"].str.replace(\"'\\\\'\", \"' '\")\n",
    "df1[\"Comment_5\"]= df1[\"Comment_5\"].str.replace(\"4\", \"four\")\n",
    "df1[\"Comment_5\"]= df1[\"Comment_5\"].str.replace(\"/\", \",\")"
   ]
  },
  {
   "cell_type": "markdown",
   "metadata": {},
   "source": [
    "#### Comment_6 - change names"
   ]
  },
  {
   "cell_type": "code",
   "execution_count": 46,
   "metadata": {},
   "outputs": [],
   "source": [
    "df1[\"Comment_6\"]= df1[\"Comment_6\"].str.replace(\"Student_name\", \"Student\") \n",
    "df1[\"Comment_6\"]= df1[\"Comment_6\"].str.replace(\"Teacher_Email\", \"Teacher Email\")\n",
    "df1[\"Comment_6\"]= df1[\"Comment_6\"].str.replace(\"Teacher_Email\", \"Teacher Email\")\n",
    "df1[\"Comment_6\"]= df1[\"Comment_6\"].str.replace(\"Student_name\", \"Student\") \n",
    "df1[\"Comment_6\"]= df1[\"Comment_6\"].str.replace(\"Date\", \"Some date\") \n",
    "df1[\"Comment_6\"]= df1[\"Comment_6\"].str.replace(\"Date\", \"Some date\")\n",
    "df1[\"Comment_6\"]= df1[\"Comment_6\"].str.replace(\"Student_name\", \"Student\") \n",
    "df1[\"Comment_6\"]= df1[\"Comment_6\"].str.replace(\"Student_name\", \"Student\") \n",
    "df1[\"Comment_6\"]= df1[\"Comment_6\"].str.replace(\"Student_name\", \"Student\") \n",
    "df1[\"Comment_6\"]= df1[\"Comment_6\"].str.replace(\"Date\", \"Some date\")\n",
    "df1[\"Comment_6\"]= df1[\"Comment_6\"].str.replace(\"Student_name\", \"Student\") \n",
    "df1[\"Comment_6\"]= df1[\"Comment_6\"].str.replace(\"Student_name\", \"Student\") \n",
    "df1[\"Comment_6\"]= df1[\"Comment_6\"].str.replace(\"Student_name\", \"Student\") \n",
    "df1[\"Comment_6\"]= df1[\"Comment_6\"].str.replace(\"'\\\\'\", \"' '\")\n",
    "df1[\"Comment_6\"]= df1[\"Comment_6\"].str.replace(\"/\", \",\")\n",
    "df1[\"Comment_6\"]= df1[\"Comment_6\"].str.replace(\"4\", \"four\")\n",
    "df1[\"Comment_6\"]= df1[\"Comment_6\"].str.replace(\"80%\", \"Eighty percent\")\n",
    "df1[\"Comment_6\"]= df1[\"Comment_6\"].str.replace(\"100%\", \"one hundred percent\")\n",
    "df1[\"Comment_6\"]= df1[\"Comment_6\"].str.replace(\"30\", \"thirty\")"
   ]
  },
  {
   "cell_type": "markdown",
   "metadata": {},
   "source": [
    "#### Comment_7 - change names"
   ]
  },
  {
   "cell_type": "code",
   "execution_count": 47,
   "metadata": {},
   "outputs": [],
   "source": [
    "df1[\"Comment_7\"]= df1[\"Comment_7\"].str.replace(\"Student_name\", \"Student\") \n",
    "df1[\"Comment_7\"]= df1[\"Comment_7\"].str.replace(\"Teacher_Email\", \"Teacher Email\")\n",
    "df1[\"Comment_7\"]= df1[\"Comment_7\"].str.replace(\"Teacher_Email\", \"Teacher Email\")\n",
    "df1[\"Comment_7\"]= df1[\"Comment_7\"].str.replace(\"Student_name\", \"Student\") \n",
    "df1[\"Comment_7\"]= df1[\"Comment_7\"].str.replace(\"Student_name\", \"Student\") \n",
    "df1[\"Comment_7\"]= df1[\"Comment_7\"].str.replace(\"Student_name\", \"Student\") \n",
    "df1[\"Comment_7\"]= df1[\"Comment_7\"].str.replace(\"Student_name\", \"Student\") \n",
    "df1[\"Comment_7\"]= df1[\"Comment_7\"].str.replace(\"Student_name\", \"Student\") \n",
    "df1[\"Comment_7\"]= df1[\"Comment_7\"].str.replace(\"Date\", \"Some date\") \n",
    "df1[\"Comment_7\"]= df1[\"Comment_7\"].str.replace(\"Student_name\", \"Student\") \n",
    "df1[\"Comment_7\"]= df1[\"Comment_7\"].str.replace(\"'\\\\'\", \"' '\")\n",
    "df1[\"Comment_7\"]= df1[\"Comment_7\"].str.replace(\"50\", \"fifty\")\n",
    "df1[\"Comment_7\"]= df1[\"Comment_7\"].str.replace('\"0\"', \"zero\")"
   ]
  },
  {
   "cell_type": "markdown",
   "metadata": {},
   "source": [
    "#### Comment_8 - change names"
   ]
  },
  {
   "cell_type": "code",
   "execution_count": 48,
   "metadata": {},
   "outputs": [],
   "source": [
    "df1[\"Comment_8\"]= df1[\"Comment_8\"].str.replace(\"Student_name\", \"Student\") \n",
    "df1[\"Comment_8\"]= df1[\"Comment_8\"].str.replace(\"Teacher_Email\", \"Teacher Email\")\n",
    "df1[\"Comment_8\"]= df1[\"Comment_8\"].str.replace(\"Teacher_Email\", \"Teacher Email\")\n",
    "df1[\"Comment_8\"]= df1[\"Comment_8\"].str.replace(\"Date\", \"Some date\") \n",
    "df1[\"Comment_8\"]= df1[\"Comment_8\"].str.replace(\"Student_name\", \"Student\") \n",
    "df1[\"Comment_8\"]= df1[\"Comment_8\"].str.replace(\"Student_name\", \"Student\") \n",
    "df1[\"Comment_8\"]= df1[\"Comment_8\"].str.replace(\"Student_name\", \"Student\") \n",
    "df1[\"Comment_8\"]= df1[\"Comment_8\"].str.replace(\"Student_name\", \"Student\") \n",
    "df1[\"Comment_8\"]= df1[\"Comment_8\"].str.replace(\"'\\\\'\", \"' '\")\n",
    "df1[\"Comment_8\"]= df1[\"Comment_8\"].str.replace(\"Date\", \"Some date\") "
   ]
  },
  {
   "cell_type": "markdown",
   "metadata": {},
   "source": [
    "# Feature Engineering"
   ]
  },
  {
   "cell_type": "markdown",
   "metadata": {},
   "source": [
    "### Average and total for absent, tardy, and scores\n",
    "- Total absent and tardy for each student in their middle school years\n",
    "- Average grade for middle school years per student\n",
    "- Average Math score for middle school years per student\n",
    "- Average ELA score for middle school years per student"
   ]
  },
  {
   "cell_type": "code",
   "execution_count": 49,
   "metadata": {},
   "outputs": [],
   "source": [
    "df1['Absent Total'] = (df1['Absent Grade 7']+df1['Absent Grade 8'])\n",
    "df1['Tardy Total'] = (df1['Tardy Grade 7']+df1['Tardy Grade 8'])\n",
    "df1['Average Grade MS'] = (df1['Grade Average 7']+df1['Grade Average 8'])/2\n",
    "df1['Average Math Score'] = (df1['Math_7_score']+df1['Math_8_score'])/2\n",
    "df1['Average ELA Score'] = (df1['ELA_7_score']+df1['ELA_8_score'])/2"
   ]
  },
  {
   "cell_type": "markdown",
   "metadata": {},
   "source": [
    "### Prefabricated Comments"
   ]
  },
  {
   "cell_type": "code",
   "execution_count": 50,
   "metadata": {},
   "outputs": [
    {
     "data": {
      "text/plain": [
       "array([[\"'Demonstrates above average ability, motivation and attitude in this class--'\",\n",
       "        \"'Demonstrates outstanding effort--'\",\n",
       "        \"'Meets acceptable standards of cooperation, work, attitude and effort - '\",\n",
       "        ..., ' No Comment ',\n",
       "        \"'Conscientious about classroom responsibilities--'\",\n",
       "        \"'Demonstrates outstanding effort--'\"],\n",
       "       [\"'Meets acceptable standards of cooperation, work, attitude and effort - '\",\n",
       "        \"'Meets acceptable standards of cooperation, work, attitude and effort - '\",\n",
       "        \"'Meets acceptable standards of cooperation, work, attitude and effort - '\",\n",
       "        ..., ' No Comment ',\n",
       "        \"'Conscientious about classroom responsibilities--'\",\n",
       "        \"'Meets acceptable standards of cooperation, work, attitude and effort - '\"],\n",
       "       [\"'Incomplete work--'\", \"'Poor test scores--'\",\n",
       "        \"'Meets acceptable standards of cooperation, work, attitude and effort - '\",\n",
       "        ..., ' No Comment ', ' No Comment ', ' No Comment '],\n",
       "       ...,\n",
       "       [\"'Poor test scores--'\", \"'Poor class attendance--'\",\n",
       "        ' No Comment ', ...,\n",
       "        \"'Should make up work when it is missing right away.  Ask for help if needed..'\",\n",
       "        ' No Comment ',\n",
       "        \"'Meets acceptable standards of cooperation, work, attitude and effort - '\"],\n",
       "       [\"'Poor test scores--'\",\n",
       "        \"'Meets acceptable standards of cooperation, work, attitude and effort - '\",\n",
       "        \"'Inattentiveness in class--'\", ...,\n",
       "        \"'Meets acceptable standards of cooperation, work, attitude and effort - '\",\n",
       "        \"'Student can show more effort and attentiveness.- Estudiante puede mostrar mejor esfuerzo y puede poner mas atencion a la clase.'\",\n",
       "        ' No Comment '],\n",
       "       [' No Comment ', ' No Comment ', ' No Comment ', ...,\n",
       "        ' No Comment ', ' No Comment ', ' No Comment ']], dtype=object)"
      ]
     },
     "execution_count": 50,
     "metadata": {},
     "output_type": "execute_result"
    }
   ],
   "source": [
    "df1.iloc[:, 12:20].values"
   ]
  },
  {
   "cell_type": "code",
   "execution_count": 51,
   "metadata": {},
   "outputs": [],
   "source": [
    "above_average = []\n",
    "meet_acceptable = []\n",
    "incomplete_work = []\n",
    "outstanding = []\n",
    "unprepared_class = []\n",
    "inattentive = []\n",
    "poor_test = []\n",
    "conscientious = []\n",
    "improvement = []\n",
    "homework = []\n",
    "parent = []\n",
    "poor_class = []\n",
    "late = []\n",
    "\n",
    "for comment in df1.iloc[:, 12:20].values:\n",
    "    above_average_ = 0\n",
    "    meet_acceptable_ = 0\n",
    "    incomplete_work_ = 0\n",
    "    outstanding_ = 0\n",
    "    unprepared_class_ = 0\n",
    "    inattentive_ = 0\n",
    "    poor_test_ = 0\n",
    "    conscientious_ = 0\n",
    "    improvement_ = 0\n",
    "    homework_ = 0\n",
    "    parent_ = 0\n",
    "    poor_class_ = 0\n",
    "    late_ = 0\n",
    "    for student in comment:\n",
    "        if \"Demonstrates above average ability, motivation and attitude in this class\" in student:\n",
    "            above_average_ +=1\n",
    "        elif \"Meets acceptable standards of cooperation, work, attitude and effort\" in student:\n",
    "            meet_acceptable_ +=1\n",
    "        elif \"Incomplete work\" in student:\n",
    "            incomplete_work_ +=1\n",
    "        elif \"Demonstrates outstanding effort\" in student:\n",
    "            outstanding_ +=1\n",
    "        elif \"Unprepared for class\" in student:\n",
    "            unprepared_class_ +=1\n",
    "        elif \"Inattentiveness in class\" in student:\n",
    "            inattentive_ +=1\n",
    "        elif \"Poor test scores\" in student:\n",
    "            poor_test_ +=1\n",
    "        elif \"Conscientious about classroom responsibilities\" in student:\n",
    "            conscientious_ +=1\n",
    "        elif \"Improvement noted\" in student:\n",
    "            improvement_ +=1\n",
    "        elif \"Incomplete homework\" in student:\n",
    "            homework_ +=1\n",
    "        elif \"Parent conference requested\" in student:\n",
    "            parent_ +=1\n",
    "        elif \"Poor class attendance\" in student:\n",
    "            poor_class_ +=1\n",
    "        elif \"Excessive lateness\" in student:\n",
    "            late_ +=1\n",
    "    above_average.append(above_average_)\n",
    "    meet_acceptable.append(meet_acceptable_)\n",
    "    incomplete_work.append(incomplete_work_)\n",
    "    outstanding.append(outstanding_)\n",
    "    unprepared_class.append(unprepared_class_)\n",
    "    inattentive.append(inattentive_)\n",
    "    poor_test.append(poor_test_)\n",
    "    conscientious.append(conscientious_)\n",
    "    improvement.append(improvement_)\n",
    "    homework.append(homework_)\n",
    "    parent.append(parent_)\n",
    "    poor_class.append(poor_class_)\n",
    "    late.append(late_)"
   ]
  },
  {
   "cell_type": "code",
   "execution_count": 52,
   "metadata": {},
   "outputs": [
    {
     "data": {
      "text/plain": [
       "886"
      ]
     },
     "execution_count": 52,
     "metadata": {},
     "output_type": "execute_result"
    }
   ],
   "source": [
    "len(above_average)"
   ]
  },
  {
   "cell_type": "markdown",
   "metadata": {},
   "source": [
    "### Make lists to dataframes"
   ]
  },
  {
   "cell_type": "code",
   "execution_count": 53,
   "metadata": {},
   "outputs": [],
   "source": [
    "above_average_comments = pd.DataFrame(above_average, columns=['Num of Above Average Comments'])\n",
    "meets_acceptable_comments = pd.DataFrame(meet_acceptable, columns=['Num of Meets Acceptable Comments'])\n",
    "incomplete_work_comments = pd.DataFrame(incomplete_work, columns=['Num of Incomplete Work Comments'])\n",
    "outstanding_effort_comments = pd.DataFrame(outstanding, columns=['Num of Outstanding Effort Comments'])\n",
    "unprepared_class_comments = pd.DataFrame(unprepared_class, columns=['Num of Unprepared for Class Comments'])\n",
    "inattentive_class_comments = pd.DataFrame(inattentive, columns=['Num of Inattentive in Class Comments'])\n",
    "poor_test_comments = pd.DataFrame(poor_test, columns=['Num of Poor Tests Comments'])\n",
    "conscientious_comments = pd.DataFrame(conscientious, columns=['Num of Conscientious Comments'])\n",
    "improvement_comments = pd.DataFrame(improvement, columns=['Num of Improvement Noted Comments'])\n",
    "homework_comments = pd.DataFrame(homework, columns=['Num of Imcomplete Homework Comments'])\n",
    "parent_comments = pd.DataFrame(parent, columns=['Num of Parent Conference Requested Comments'])\n",
    "poor_class_comments = pd.DataFrame(poor_class, columns=['Num of Poor Class Attendance Comments'])\n",
    "late_comments = pd.DataFrame(late, columns=['Num of Excessive Lateness Comments'])"
   ]
  },
  {
   "cell_type": "markdown",
   "metadata": {},
   "source": [
    "#### Concat the new columns to `df1`."
   ]
  },
  {
   "cell_type": "code",
   "execution_count": 54,
   "metadata": {},
   "outputs": [],
   "source": [
    "df1 = pd.concat([df1, above_average_comments, meets_acceptable_comments, incomplete_work_comments,\n",
    "              outstanding_effort_comments, unprepared_class_comments, inattentive_class_comments,\n",
    "              poor_test_comments, conscientious_comments, improvement_comments, homework_comments, \n",
    "              parent_comments, poor_class_comments, late_comments], axis=1)"
   ]
  },
  {
   "cell_type": "markdown",
   "metadata": {},
   "source": [
    "#### Save the new `df1`."
   ]
  },
  {
   "cell_type": "code",
   "execution_count": 55,
   "metadata": {},
   "outputs": [],
   "source": [
    "df1.to_csv('df2.csv')"
   ]
  },
  {
   "cell_type": "code",
   "execution_count": 56,
   "metadata": {},
   "outputs": [
    {
     "name": "stdout",
     "output_type": "stream",
     "text": [
      "<class 'pandas.core.frame.DataFrame'>\n",
      "RangeIndex: 886 entries, 0 to 885\n",
      "Data columns (total 40 columns):\n",
      "Unnamed: 0                                     886 non-null int64\n",
      "student_ids                                    886 non-null int64\n",
      "Grade Average 7                                886 non-null int64\n",
      "Grade Average 8                                886 non-null int64\n",
      "Math_7_score                                   886 non-null int64\n",
      "ELA_7_score                                    886 non-null int64\n",
      "Math_8_score                                   886 non-null int64\n",
      "ELA_8_score                                    886 non-null int64\n",
      "Absent Grade 7                                 886 non-null int64\n",
      "Tardy Grade 7                                  886 non-null int64\n",
      "Absent Grade 8                                 886 non-null int64\n",
      "Tardy Grade 8                                  886 non-null int64\n",
      "Gender                                         886 non-null object\n",
      "Comment_1                                      886 non-null object\n",
      "Comment_2                                      886 non-null object\n",
      "Comment_3                                      886 non-null object\n",
      "Comment_4                                      886 non-null object\n",
      "Comment_5                                      886 non-null object\n",
      "Comment_6                                      886 non-null object\n",
      "Comment_7                                      886 non-null object\n",
      "Comment_8                                      886 non-null object\n",
      "target                                         886 non-null int64\n",
      "Absent Total                                   886 non-null int64\n",
      "Tardy Total                                    886 non-null int64\n",
      "Average Grade MS                               886 non-null float64\n",
      "Average Math Score                             886 non-null float64\n",
      "Average ELA Score                              886 non-null float64\n",
      "Num of Above Average Comments                  886 non-null int64\n",
      "Num of Meets Acceptable Comments               886 non-null int64\n",
      "Num of Incomplete Work Comments                886 non-null int64\n",
      "Num of Outstanding Effort Comments             886 non-null int64\n",
      "Num of Unprepared for Class Comments           886 non-null int64\n",
      "Num of Inattentive in Class Comments           886 non-null int64\n",
      "Num of Poor Tests Comments                     886 non-null int64\n",
      "Num of Conscientious Comments                  886 non-null int64\n",
      "Num of Improvement Noted Comments              886 non-null int64\n",
      "Num of Imcomplete Homework Comments            886 non-null int64\n",
      "Num of Parent Conference Requested Comments    886 non-null int64\n",
      "Num of Poor Class Attendance Comments          886 non-null int64\n",
      "Num of Excessive Lateness Comments             886 non-null int64\n",
      "dtypes: float64(3), int64(28), object(9)\n",
      "memory usage: 277.0+ KB\n"
     ]
    }
   ],
   "source": [
    "import pandas as pd\n",
    "df2 = pd.read_csv('df2.csv')\n",
    "df2.info()"
   ]
  },
  {
   "cell_type": "markdown",
   "metadata": {},
   "source": [
    "#### Save new df "
   ]
  },
  {
   "cell_type": "code",
   "execution_count": 57,
   "metadata": {},
   "outputs": [],
   "source": [
    "df2.drop(['Unnamed: 0', 'student_ids'], axis=1, inplace=True)"
   ]
  },
  {
   "cell_type": "code",
   "execution_count": 58,
   "metadata": {
    "scrolled": true
   },
   "outputs": [
    {
     "name": "stdout",
     "output_type": "stream",
     "text": [
      "<class 'pandas.core.frame.DataFrame'>\n",
      "RangeIndex: 886 entries, 0 to 885\n",
      "Data columns (total 38 columns):\n",
      "Grade Average 7                                886 non-null int64\n",
      "Grade Average 8                                886 non-null int64\n",
      "Math_7_score                                   886 non-null int64\n",
      "ELA_7_score                                    886 non-null int64\n",
      "Math_8_score                                   886 non-null int64\n",
      "ELA_8_score                                    886 non-null int64\n",
      "Absent Grade 7                                 886 non-null int64\n",
      "Tardy Grade 7                                  886 non-null int64\n",
      "Absent Grade 8                                 886 non-null int64\n",
      "Tardy Grade 8                                  886 non-null int64\n",
      "Gender                                         886 non-null object\n",
      "Comment_1                                      886 non-null object\n",
      "Comment_2                                      886 non-null object\n",
      "Comment_3                                      886 non-null object\n",
      "Comment_4                                      886 non-null object\n",
      "Comment_5                                      886 non-null object\n",
      "Comment_6                                      886 non-null object\n",
      "Comment_7                                      886 non-null object\n",
      "Comment_8                                      886 non-null object\n",
      "target                                         886 non-null int64\n",
      "Absent Total                                   886 non-null int64\n",
      "Tardy Total                                    886 non-null int64\n",
      "Average Grade MS                               886 non-null float64\n",
      "Average Math Score                             886 non-null float64\n",
      "Average ELA Score                              886 non-null float64\n",
      "Num of Above Average Comments                  886 non-null int64\n",
      "Num of Meets Acceptable Comments               886 non-null int64\n",
      "Num of Incomplete Work Comments                886 non-null int64\n",
      "Num of Outstanding Effort Comments             886 non-null int64\n",
      "Num of Unprepared for Class Comments           886 non-null int64\n",
      "Num of Inattentive in Class Comments           886 non-null int64\n",
      "Num of Poor Tests Comments                     886 non-null int64\n",
      "Num of Conscientious Comments                  886 non-null int64\n",
      "Num of Improvement Noted Comments              886 non-null int64\n",
      "Num of Imcomplete Homework Comments            886 non-null int64\n",
      "Num of Parent Conference Requested Comments    886 non-null int64\n",
      "Num of Poor Class Attendance Comments          886 non-null int64\n",
      "Num of Excessive Lateness Comments             886 non-null int64\n",
      "dtypes: float64(3), int64(26), object(9)\n",
      "memory usage: 263.2+ KB\n"
     ]
    }
   ],
   "source": [
    "df2.info()"
   ]
  },
  {
   "cell_type": "code",
   "execution_count": 59,
   "metadata": {},
   "outputs": [],
   "source": [
    "df2.to_csv('df3.csv')"
   ]
  },
  {
   "cell_type": "markdown",
   "metadata": {},
   "source": [
    "# New df with comments all together as a string\n",
    "- Import df3, that is the lastest dataframe with all features"
   ]
  },
  {
   "cell_type": "code",
   "execution_count": 60,
   "metadata": {},
   "outputs": [],
   "source": [
    "import pandas as pd\n",
    "df3 = pd.read_csv('df3.csv')"
   ]
  },
  {
   "cell_type": "code",
   "execution_count": 61,
   "metadata": {},
   "outputs": [
    {
     "name": "stdout",
     "output_type": "stream",
     "text": [
      "<class 'pandas.core.frame.DataFrame'>\n",
      "RangeIndex: 886 entries, 0 to 885\n",
      "Data columns (total 39 columns):\n",
      "Unnamed: 0                                     886 non-null int64\n",
      "Grade Average 7                                886 non-null int64\n",
      "Grade Average 8                                886 non-null int64\n",
      "Math_7_score                                   886 non-null int64\n",
      "ELA_7_score                                    886 non-null int64\n",
      "Math_8_score                                   886 non-null int64\n",
      "ELA_8_score                                    886 non-null int64\n",
      "Absent Grade 7                                 886 non-null int64\n",
      "Tardy Grade 7                                  886 non-null int64\n",
      "Absent Grade 8                                 886 non-null int64\n",
      "Tardy Grade 8                                  886 non-null int64\n",
      "Gender                                         886 non-null object\n",
      "Comment_1                                      886 non-null object\n",
      "Comment_2                                      886 non-null object\n",
      "Comment_3                                      886 non-null object\n",
      "Comment_4                                      886 non-null object\n",
      "Comment_5                                      886 non-null object\n",
      "Comment_6                                      886 non-null object\n",
      "Comment_7                                      886 non-null object\n",
      "Comment_8                                      886 non-null object\n",
      "target                                         886 non-null int64\n",
      "Absent Total                                   886 non-null int64\n",
      "Tardy Total                                    886 non-null int64\n",
      "Average Grade MS                               886 non-null float64\n",
      "Average Math Score                             886 non-null float64\n",
      "Average ELA Score                              886 non-null float64\n",
      "Num of Above Average Comments                  886 non-null int64\n",
      "Num of Meets Acceptable Comments               886 non-null int64\n",
      "Num of Incomplete Work Comments                886 non-null int64\n",
      "Num of Outstanding Effort Comments             886 non-null int64\n",
      "Num of Unprepared for Class Comments           886 non-null int64\n",
      "Num of Inattentive in Class Comments           886 non-null int64\n",
      "Num of Poor Tests Comments                     886 non-null int64\n",
      "Num of Conscientious Comments                  886 non-null int64\n",
      "Num of Improvement Noted Comments              886 non-null int64\n",
      "Num of Imcomplete Homework Comments            886 non-null int64\n",
      "Num of Parent Conference Requested Comments    886 non-null int64\n",
      "Num of Poor Class Attendance Comments          886 non-null int64\n",
      "Num of Excessive Lateness Comments             886 non-null int64\n",
      "dtypes: float64(3), int64(27), object(9)\n",
      "memory usage: 270.1+ KB\n"
     ]
    }
   ],
   "source": [
    "df3.info()"
   ]
  },
  {
   "cell_type": "markdown",
   "metadata": {},
   "source": [
    "- Create a new columns with all the comments together as one long string"
   ]
  },
  {
   "cell_type": "markdown",
   "metadata": {},
   "source": [
    "# Cleaning Comments -- for future NLP"
   ]
  },
  {
   "cell_type": "markdown",
   "metadata": {},
   "source": [
    "### Each comment"
   ]
  },
  {
   "cell_type": "code",
   "execution_count": 62,
   "metadata": {},
   "outputs": [],
   "source": [
    "updated_com_1 = []\n",
    "for i in df3['Comment_1']:\n",
    "    updated_com_1.append(i.split('--')[0])"
   ]
  },
  {
   "cell_type": "code",
   "execution_count": 99,
   "metadata": {},
   "outputs": [],
   "source": [
    "com_1 = []\n",
    "for i in updated_com_1:\n",
    "    com_1.append(i.split('-')[0])"
   ]
  },
  {
   "cell_type": "code",
   "execution_count": 64,
   "metadata": {},
   "outputs": [],
   "source": [
    "updated_com_2 = []\n",
    "for i in df3['Comment_2']:\n",
    "    updated_com_2.append(i.split('--')[0])"
   ]
  },
  {
   "cell_type": "code",
   "execution_count": 65,
   "metadata": {},
   "outputs": [],
   "source": [
    "com_2 = []\n",
    "for i in updated_com_2:\n",
    "    com_2.append(i.split('-')[0])"
   ]
  },
  {
   "cell_type": "code",
   "execution_count": 66,
   "metadata": {},
   "outputs": [],
   "source": [
    "updated_com_3 = []\n",
    "for i in df3['Comment_3']:\n",
    "    updated_com_3.append(i.split('--')[0])"
   ]
  },
  {
   "cell_type": "code",
   "execution_count": 67,
   "metadata": {},
   "outputs": [],
   "source": [
    "com_3 = []\n",
    "for i in updated_com_3:\n",
    "    com_3.append(i.split('-')[0])"
   ]
  },
  {
   "cell_type": "code",
   "execution_count": 68,
   "metadata": {},
   "outputs": [],
   "source": [
    "updated_com_4 = []\n",
    "for i in df3['Comment_4']:\n",
    "    updated_com_4.append(i.split('--')[0])"
   ]
  },
  {
   "cell_type": "code",
   "execution_count": 69,
   "metadata": {},
   "outputs": [],
   "source": [
    "com_4 = []\n",
    "for i in updated_com_4:\n",
    "    com_4.append(i.split('-')[0])"
   ]
  },
  {
   "cell_type": "code",
   "execution_count": 70,
   "metadata": {},
   "outputs": [],
   "source": [
    "updated_com_5 = []\n",
    "for i in df3['Comment_5']:\n",
    "    updated_com_5.append(i.split('--')[0])"
   ]
  },
  {
   "cell_type": "code",
   "execution_count": 71,
   "metadata": {},
   "outputs": [],
   "source": [
    "com_5 = []\n",
    "for i in updated_com_5:\n",
    "    com_5.append(i.split('-')[0])"
   ]
  },
  {
   "cell_type": "code",
   "execution_count": 72,
   "metadata": {},
   "outputs": [],
   "source": [
    "updated_com_6 = []\n",
    "for i in df3['Comment_6']:\n",
    "    updated_com_6.append(i.split('--')[0])"
   ]
  },
  {
   "cell_type": "code",
   "execution_count": 73,
   "metadata": {},
   "outputs": [],
   "source": [
    "com_6 = []\n",
    "for i in updated_com_6:\n",
    "    com_6.append(i.split('-')[0])"
   ]
  },
  {
   "cell_type": "code",
   "execution_count": 74,
   "metadata": {},
   "outputs": [],
   "source": [
    "updated_com_7 = []\n",
    "for i in df3['Comment_7']:\n",
    "    updated_com_7.append(i.split('--')[0])"
   ]
  },
  {
   "cell_type": "code",
   "execution_count": 75,
   "metadata": {},
   "outputs": [],
   "source": [
    "com_7 = []\n",
    "for i in updated_com_7:\n",
    "    com_7.append(i.split('-')[0])"
   ]
  },
  {
   "cell_type": "code",
   "execution_count": 76,
   "metadata": {},
   "outputs": [],
   "source": [
    "updated_com_8 = []\n",
    "for i in df3['Comment_8']:\n",
    "    updated_com_8.append(i.split('--')[0])"
   ]
  },
  {
   "cell_type": "code",
   "execution_count": 77,
   "metadata": {},
   "outputs": [],
   "source": [
    "com_8 = []\n",
    "for i in updated_com_8:\n",
    "    com_8.append(i.split('-')[0])"
   ]
  },
  {
   "cell_type": "markdown",
   "metadata": {},
   "source": [
    "### `pd.DataFrame([lists], columns=( ))`"
   ]
  },
  {
   "cell_type": "code",
   "execution_count": 78,
   "metadata": {},
   "outputs": [],
   "source": [
    "comm_1 = pd.DataFrame(com_1, columns=['Com_1'])\n",
    "comm_2 = pd.DataFrame(com_2, columns=['Com_2'])\n",
    "comm_3 = pd.DataFrame(com_3, columns=['Com_3'])\n",
    "comm_4 = pd.DataFrame(com_4, columns=['Com_4'])\n",
    "comm_5 = pd.DataFrame(com_5, columns=['Com_5'])\n",
    "comm_6 = pd.DataFrame(com_6, columns=['Com_6'])\n",
    "comm_7 = pd.DataFrame(com_7, columns=['Com_7'])\n",
    "comm_8 = pd.DataFrame(com_1, columns=['Com_8'])"
   ]
  },
  {
   "cell_type": "markdown",
   "metadata": {},
   "source": [
    "### Concat the dataframes"
   ]
  },
  {
   "cell_type": "code",
   "execution_count": 79,
   "metadata": {},
   "outputs": [],
   "source": [
    "comment_dataframe = pd.concat([comm_1, comm_2, comm_3, comm_4, comm_5, comm_6, comm_7, comm_8], axis=1)"
   ]
  },
  {
   "cell_type": "code",
   "execution_count": 88,
   "metadata": {},
   "outputs": [],
   "source": [
    "comment_dataframe['Comments'] = (comment_dataframe['Com_1']+'.' + comment_dataframe['Com_2']+'.' + \n",
    "                                comment_dataframe['Com_3']+'.' + comment_dataframe['Com_4']+'.' +\n",
    "                                comment_dataframe['Com_5']+'.' + comment_dataframe['Com_6']+'.' + \n",
    "                                comment_dataframe['Com_7']+'.' + comment_dataframe['Com_8']+'.')"
   ]
  },
  {
   "cell_type": "code",
   "execution_count": 89,
   "metadata": {},
   "outputs": [
    {
     "data": {
      "text/plain": [
       "\"'Meets acceptable standards of cooperation, work, attitude and effort .'Meets acceptable standards of cooperation, work, attitude and effort .'Meets acceptable standards of cooperation, work, attitude and effort .'Demonstrates above average ability, motivation and attitude in this class.'Meets acceptable standards of cooperation, work, attitude and effort . No Comment .'Conscientious about classroom responsibilities.'Meets acceptable standards of cooperation, work, attitude and effort .\""
      ]
     },
     "execution_count": 89,
     "metadata": {},
     "output_type": "execute_result"
    }
   ],
   "source": [
    "comment_dataframe['Comments'][1]"
   ]
  },
  {
   "cell_type": "markdown",
   "metadata": {},
   "source": [
    "### Concat the dataframes together to try to get comments into the dataframe"
   ]
  },
  {
   "cell_type": "code",
   "execution_count": 82,
   "metadata": {},
   "outputs": [],
   "source": [
    "df3 = pd.concat([df3, comment_dataframe], axis=1)"
   ]
  },
  {
   "cell_type": "code",
   "execution_count": 83,
   "metadata": {},
   "outputs": [
    {
     "name": "stdout",
     "output_type": "stream",
     "text": [
      "<class 'pandas.core.frame.DataFrame'>\n",
      "RangeIndex: 886 entries, 0 to 885\n",
      "Data columns (total 48 columns):\n",
      "Unnamed: 0                                     886 non-null int64\n",
      "Grade Average 7                                886 non-null int64\n",
      "Grade Average 8                                886 non-null int64\n",
      "Math_7_score                                   886 non-null int64\n",
      "ELA_7_score                                    886 non-null int64\n",
      "Math_8_score                                   886 non-null int64\n",
      "ELA_8_score                                    886 non-null int64\n",
      "Absent Grade 7                                 886 non-null int64\n",
      "Tardy Grade 7                                  886 non-null int64\n",
      "Absent Grade 8                                 886 non-null int64\n",
      "Tardy Grade 8                                  886 non-null int64\n",
      "Gender                                         886 non-null object\n",
      "Comment_1                                      886 non-null object\n",
      "Comment_2                                      886 non-null object\n",
      "Comment_3                                      886 non-null object\n",
      "Comment_4                                      886 non-null object\n",
      "Comment_5                                      886 non-null object\n",
      "Comment_6                                      886 non-null object\n",
      "Comment_7                                      886 non-null object\n",
      "Comment_8                                      886 non-null object\n",
      "target                                         886 non-null int64\n",
      "Absent Total                                   886 non-null int64\n",
      "Tardy Total                                    886 non-null int64\n",
      "Average Grade MS                               886 non-null float64\n",
      "Average Math Score                             886 non-null float64\n",
      "Average ELA Score                              886 non-null float64\n",
      "Num of Above Average Comments                  886 non-null int64\n",
      "Num of Meets Acceptable Comments               886 non-null int64\n",
      "Num of Incomplete Work Comments                886 non-null int64\n",
      "Num of Outstanding Effort Comments             886 non-null int64\n",
      "Num of Unprepared for Class Comments           886 non-null int64\n",
      "Num of Inattentive in Class Comments           886 non-null int64\n",
      "Num of Poor Tests Comments                     886 non-null int64\n",
      "Num of Conscientious Comments                  886 non-null int64\n",
      "Num of Improvement Noted Comments              886 non-null int64\n",
      "Num of Imcomplete Homework Comments            886 non-null int64\n",
      "Num of Parent Conference Requested Comments    886 non-null int64\n",
      "Num of Poor Class Attendance Comments          886 non-null int64\n",
      "Num of Excessive Lateness Comments             886 non-null int64\n",
      "Com_1                                          886 non-null object\n",
      "Com_2                                          886 non-null object\n",
      "Com_3                                          886 non-null object\n",
      "Com_4                                          886 non-null object\n",
      "Com_5                                          886 non-null object\n",
      "Com_6                                          886 non-null object\n",
      "Com_7                                          886 non-null object\n",
      "Com_8                                          886 non-null object\n",
      "Comments                                       886 non-null object\n",
      "dtypes: float64(3), int64(27), object(18)\n",
      "memory usage: 332.4+ KB\n"
     ]
    }
   ],
   "source": [
    "df3.info()"
   ]
  },
  {
   "cell_type": "code",
   "execution_count": 84,
   "metadata": {},
   "outputs": [],
   "source": [
    "df3.drop(['Comment_1', 'Comment_2', 'Comment_3', 'Comment_4',\n",
    "               'Comment_5', 'Comment_6', 'Comment_7', 'Comment_8', 'Unnamed: 0', 'Com_1',\n",
    "         'Com_2', 'Com_3', 'Com_4', 'Com_5', 'Com_6', 'Com_7', 'Com_8'], axis=1, inplace=True)"
   ]
  },
  {
   "cell_type": "code",
   "execution_count": 85,
   "metadata": {},
   "outputs": [
    {
     "name": "stdout",
     "output_type": "stream",
     "text": [
      "<class 'pandas.core.frame.DataFrame'>\n",
      "RangeIndex: 886 entries, 0 to 885\n",
      "Data columns (total 31 columns):\n",
      "Grade Average 7                                886 non-null int64\n",
      "Grade Average 8                                886 non-null int64\n",
      "Math_7_score                                   886 non-null int64\n",
      "ELA_7_score                                    886 non-null int64\n",
      "Math_8_score                                   886 non-null int64\n",
      "ELA_8_score                                    886 non-null int64\n",
      "Absent Grade 7                                 886 non-null int64\n",
      "Tardy Grade 7                                  886 non-null int64\n",
      "Absent Grade 8                                 886 non-null int64\n",
      "Tardy Grade 8                                  886 non-null int64\n",
      "Gender                                         886 non-null object\n",
      "target                                         886 non-null int64\n",
      "Absent Total                                   886 non-null int64\n",
      "Tardy Total                                    886 non-null int64\n",
      "Average Grade MS                               886 non-null float64\n",
      "Average Math Score                             886 non-null float64\n",
      "Average ELA Score                              886 non-null float64\n",
      "Num of Above Average Comments                  886 non-null int64\n",
      "Num of Meets Acceptable Comments               886 non-null int64\n",
      "Num of Incomplete Work Comments                886 non-null int64\n",
      "Num of Outstanding Effort Comments             886 non-null int64\n",
      "Num of Unprepared for Class Comments           886 non-null int64\n",
      "Num of Inattentive in Class Comments           886 non-null int64\n",
      "Num of Poor Tests Comments                     886 non-null int64\n",
      "Num of Conscientious Comments                  886 non-null int64\n",
      "Num of Improvement Noted Comments              886 non-null int64\n",
      "Num of Imcomplete Homework Comments            886 non-null int64\n",
      "Num of Parent Conference Requested Comments    886 non-null int64\n",
      "Num of Poor Class Attendance Comments          886 non-null int64\n",
      "Num of Excessive Lateness Comments             886 non-null int64\n",
      "Comments                                       886 non-null object\n",
      "dtypes: float64(3), int64(26), object(2)\n",
      "memory usage: 214.7+ KB\n"
     ]
    }
   ],
   "source": [
    "df3.info()"
   ]
  },
  {
   "cell_type": "markdown",
   "metadata": {},
   "source": [
    "- Save new df with comments as a single column"
   ]
  },
  {
   "cell_type": "code",
   "execution_count": 86,
   "metadata": {},
   "outputs": [],
   "source": [
    "df3.to_csv('df4.csv')"
   ]
  }
 ],
 "metadata": {
  "kernelspec": {
   "display_name": "Python [conda env:learn-env] *",
   "language": "python",
   "name": "conda-env-learn-env-py"
  },
  "language_info": {
   "codemirror_mode": {
    "name": "ipython",
    "version": 3
   },
   "file_extension": ".py",
   "mimetype": "text/x-python",
   "name": "python",
   "nbconvert_exporter": "python",
   "pygments_lexer": "ipython3",
   "version": "3.6.9"
  },
  "toc": {
   "base_numbering": 1,
   "nav_menu": {},
   "number_sections": true,
   "sideBar": true,
   "skip_h1_title": false,
   "title_cell": "Table of Contents",
   "title_sidebar": "Contents",
   "toc_cell": false,
   "toc_position": {
    "height": "calc(100% - 180px)",
    "left": "10px",
    "top": "150px",
    "width": "259px"
   },
   "toc_section_display": true,
   "toc_window_display": false
  },
  "varInspector": {
   "cols": {
    "lenName": 16,
    "lenType": 16,
    "lenVar": 40
   },
   "kernels_config": {
    "python": {
     "delete_cmd_postfix": "",
     "delete_cmd_prefix": "del ",
     "library": "var_list.py",
     "varRefreshCmd": "print(var_dic_list())"
    },
    "r": {
     "delete_cmd_postfix": ") ",
     "delete_cmd_prefix": "rm(",
     "library": "var_list.r",
     "varRefreshCmd": "cat(var_dic_list()) "
    }
   },
   "types_to_exclude": [
    "module",
    "function",
    "builtin_function_or_method",
    "instance",
    "_Feature"
   ],
   "window_display": false
  }
 },
 "nbformat": 4,
 "nbformat_minor": 2
}
